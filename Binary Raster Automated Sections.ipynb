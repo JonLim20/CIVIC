{
 "cells": [
  {
   "cell_type": "markdown",
   "metadata": {},
   "source": [
    "# Landcover thresholding and binary raster workflow\n",
    "\n",
    "## Module 1: Isolate the shape of the river, and generate a StudyArea shapefile\n",
    "Change variables in parts 1-3. Ensure that the Module 1 cell below is selected before you press \"Run\". Do not press cell-> Run all. There will be consequences, and I cannot guarantee your sanity or safety."
   ]
  },
  {
   "cell_type": "code",
   "execution_count": 2,
   "metadata": {},
   "outputs": [],
   "source": [
    "# Welcome to Module 1! \n",
    "import arcpy\n",
    "import os\n",
    "arcpy.env.overwriteOutput = True\n",
    "\n",
    "## PART 1: File directories of landsat image and your project folder, change these. \n",
    "landsatimage = r\"D:\\civicsat\\landsatcivic-20250908T185205Z-1-001\\landsatcivic\\l82018.tif\" #Direct to your landsat image here\n",
    "folder= r\"C:\\Users\\jon20\\OneDrive\\Documents\\ArcGIS\\Projects\\CIVIC\" #Direct to your project folder here. Usually it is My Documents\\ArcGIS\\Projects\\*Project name*\n",
    "\n",
    "## PART 2: Specify landcover value thresholds\n",
    "watermin = -0.01\n",
    "watermax = 0.13\n",
    "landmin = 0.131\n",
    "landmax = 0.545\n",
    "\n",
    "## PART 3: Specify the NIR band. It is 5 for for Landsat-8, 4 for Landsat-7\n",
    "band = 5\n",
    "\n",
    "# Other variables, don't touch\n",
    "remapString = f\"{watermin} {watermax} 1;{landmin} {landmax} 0\"\n",
    "binaryoutput = os.path.join(folder,\"binarytemp.tif\") #Put this in a folder, not in a geodatabase\n",
    "shapefile = os.path.join(folder,\"shapefiletemp\") \n",
    "StudyArea= os.path.join(folder,\"StudyArea\") #The StudyArea shapefile, showing the full extent of the study area, formerly known as the \"blob\"\n",
    "\n",
    "# Extract bands\n",
    "out_bands_raster = arcpy.ia.ExtractBand(landsatimage, [band])\n",
    "\n",
    "# Execute Reclassify. Makes a raster where water is 1, land is 0\n",
    "arcpy.env.addOutputsToMap = False\n",
    "arcpy.ddd.Reclassify(out_bands_raster, \"VALUE\", remapString, binaryoutput, \"DATA\")\n",
    "\n",
    "# Turn landcover class into vector\n",
    "arcpy.env.addOutputsToMap = True\n",
    "arcpy.conversion.RasterToPolygon(binaryoutput, shapefile, \"NO_SIMPLIFY\", \"Value\", \"SINGLE_OUTER_PART\")\n",
    "\n",
    "# Constructs the StudyArea shapefile based on the vector\n",
    "arcpy.management.Dissolve(shapefile, StudyArea)\n",
    "\n",
    "# Adds a gridcode field and value (\"0\", i.e. land) to the StudyArea shapefile\n",
    "arcpy.management.AddField(StudyArea, \"gridcode\", \"Long\")\n",
    "with arcpy.da.UpdateCursor(StudyArea, [\"gridcode\"]) as cursor:\n",
    "        for row in cursor:\n",
    "            row[0] = 0\n",
    "            cursor.updateRow(row)"
   ]
  },
  {
   "cell_type": "markdown",
   "metadata": {},
   "source": [
    "## Module 2: Generate Final Outputs: 1) Binary raster, and 2) corresponding vector file\n",
    "Do not run the cell below before first running Module 1"
   ]
  },
  {
   "cell_type": "code",
   "execution_count": 3,
   "metadata": {},
   "outputs": [
    {
     "data": {
      "text/html": [
       "<div class='gpresult'><h2>Messages</h2><div id='messages'>Start Time: Tuesday, October 14, 2025 8:02:46 AM<br>Succeeded at Tuesday, October 14, 2025 8:02:46 AM (Elapsed Time: 0.19 seconds)<br></div><div id = 'default' /></div></div>"
      ],
      "text/plain": [
       "<Result 'memory\\\\tempshape'>"
      ]
     },
     "execution_count": 3,
     "metadata": {},
     "output_type": "execute_result"
    }
   ],
   "source": [
    "# Welcome to Module 2\n",
    "\n",
    "## PART 1: Input your isolated river shapefile (IRS)\n",
    "river= r\"C:\\Users\\jon20\\OneDrive\\Documents\\ArcGIS\\Projects\\CIVIC\\CIVIC.gdb\\shapefiletemp_ExportFeatures\"\n",
    "\n",
    "## PART 2: Direct to folder where you want to save your final outputs, a binary raster and its corresponding vector files. Don't put it in a geodatabase.\n",
    "finaloutput= r\"C:\\Users\\jon20\\OneDrive\\Documents\\ArcGIS\\Projects\\CIVIC\\final\"\n",
    "\n",
    "## PART 3: Name your final outputs. \n",
    "binaryvector= \"test\"\n",
    "binaryraster= \"test.tif\" # Don't forget the raster file extension, .tif is preferred for most applications. \n",
    "\n",
    "# Other variables, don't touch\n",
    "temperase= os.path.join(folder, \"temperase\")\n",
    "rivermerged= os.path.join(folder, \"rivermerged\")\n",
    "bv= r\"memory\\tempshape\"\n",
    "br= r\"memory\\br\"\n",
    "\n",
    "# Dissolve river shapefile and assign gridcode of 1\n",
    "arcpy.env.addOutputsToMap = False\n",
    "arcpy.management.Dissolve(river, rivermerged)\n",
    "arcpy.management.AddField(rivermerged, \"gridcode\", \"Long\")\n",
    "with arcpy.da.UpdateCursor(rivermerged, [\"gridcode\"]) as cursor:\n",
    "        for row in cursor:\n",
    "            row[0] = 1\n",
    "            cursor.updateRow(row)\n",
    "            \n",
    "# Construct the binary raster and vector\n",
    "arcpy.analysis.PairwiseErase(StudyArea, rivermerged, temperase)\n",
    "arcpy.env.addOutputsToMap = True\n",
    "arcpy.management.Merge([temperase, rivermerged], bv)\n",
    "arcpy.conversion.FeatureToRaster(bv, \"gridcode\", br, landsatimage)\n"
   ]
  },
  {
   "cell_type": "code",
   "execution_count": null,
   "metadata": {},
   "outputs": [],
   "source": []
  }
 ],
 "metadata": {
  "kernelspec": {
   "display_name": "ArcGISPro",
   "language": "Python",
   "name": "python3"
  },
  "language_info": {
   "file_extension": ".py",
   "name": "python",
   "version": "3"
  }
 },
 "nbformat": 4,
 "nbformat_minor": 2
}
